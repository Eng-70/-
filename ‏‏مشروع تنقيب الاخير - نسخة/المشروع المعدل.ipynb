{
 "cells": [
  {
   "cell_type": "markdown",
   "id": "f62ffab8",
   "metadata": {},
   "source": [
    "# مشروع تنقيب البيانات – الهواتف الذكية\n"
   ]
  },
  {
   "cell_type": "code",
   "execution_count": null,
   "id": "8e0d05f4",
   "metadata": {},
   "outputs": [],
   "source": [
    "# -*- coding: utf-8 -*-\n",
    "\n",
    "# 1️⃣ استيراد المكتبات الأساسية\n",
    "\n",
    "import numpy as np\n",
    "import pandas as pd\n",
    "import matplotlib.pyplot as plt\n",
    "import seaborn as sns\n",
    "from sklearn.preprocessing import LabelEncoder\n",
    "from sklearn.metrics import classification_report, confusion_matrix,accuracy_score\n",
    "from sklearn.model_selection import train_test_split\n",
    "from sklearn.cluster import KMeans\n",
    "#################\n",
    "from sklearn.model_selection import train_test_split\n",
    "from sklearn.ensemble import RandomForestRegressor\n",
    "from sklearn.metrics import mean_squared_error, r2_score\n",
    "########################\n",
    "\n",
    "from sklearn.tree import DecisionTreeClassifier\n",
    "from sklearn.ensemble import RandomForestClassifier\n",
    "from sklearn.linear_model import LogisticRegression\n",
    "from sklearn.neighbors import KNeighborsClassifier\n",
    "from sklearn.svm import SVC"
   ]
  },
  {
   "cell_type": "code",
   "execution_count": null,
   "id": "51ee6134",
   "metadata": {},
   "outputs": [],
   "source": [
    "# 2️⃣ تحميل البيانات\n",
    "df = pd.read_csv(\"smartphones.csv\")\n",
    "# عرض أول 5 صفوف\n",
    "df.head() # ضع اسم الملف هنا"
   ]
  },
  {
   "cell_type": "code",
   "execution_count": null,
   "id": "70a8e6e9",
   "metadata": {},
   "outputs": [],
   "source": [
    "df_copy = df.copy()"
   ]
  },
  {
   "cell_type": "markdown",
   "id": "7c941a18",
   "metadata": {},
   "source": [
    "# حذف اللون لانه غير مهم في السعر غالبا"
   ]
  },
  {
   "cell_type": "code",
   "execution_count": null,
   "id": "5f432c85",
   "metadata": {},
   "outputs": [],
   "source": [
    "df.drop(columns=['Color'], inplace=True, errors='ignore')\n",
    "\n",
    "\n",
    "df.head()"
   ]
  },
  {
   "cell_type": "code",
   "execution_count": null,
   "id": "35aa33c0",
   "metadata": {},
   "outputs": [],
   "source": [
    "# تحويل Yes إلى 1 و No إلى 0\n",
    "df['Free'] = df['Free'].map({'Yes': 1, 'No': 0})\n",
    "\n",
    "# التأكد من التحويل\n",
    "print(df.head())\n"
   ]
  },
  {
   "cell_type": "code",
   "execution_count": null,
   "id": "800fecd8",
   "metadata": {},
   "outputs": [],
   "source": [
    "# حساب تكرار كل ماركة\n",
    "brand_counts = df['Brand'].value_counts()\n",
    "\n",
    "# اختيار الماركات اللي عددها >= 20\n",
    "brands_to_keep = brand_counts[brand_counts >= 20].index\n",
    "\n",
    "# الاحتفاظ بالصفوف اللي ماركتها ضمن brands_to_keep\n",
    "df = df[df['Brand'].isin(brands_to_keep)]\n",
    "\n",
    "# التأكد\n",
    "print(df['Brand'].value_counts())\n"
   ]
  },
  {
   "cell_type": "code",
   "execution_count": null,
   "id": "3129a25d",
   "metadata": {},
   "outputs": [],
   "source": [
    "# أولاً: تحديد الماركات اللي نحتفظ فيها (كل الماركات اللي عددها >= 20)\n",
    "brands_to_keep = ['Samsung','Xiaomi','Apple','Realme','OPPO','POCO',\n",
    "                  'Motorola','Huawei','TCL','Cubot','Ulefone','Vivo',\n",
    "                  'Blackview','Honor','OnePlus','Hammer']\n",
    "\n",
    "# الاحتفاظ بالصفوف اللي ماركتها ضمن brands_to_keep\n",
    "df = df[df['Brand'].isin(brands_to_keep)]\n",
    "\n",
    "# تحويل العمود Brand لأرقام\n",
    "le = LabelEncoder()\n",
    "df['Brand'] = le.fit_transform(df['Brand'])\n",
    "\n",
    "# التأكد من التحويل\n",
    "print(df[['Brand']].head())\n",
    "print(df['Brand'].value_counts())\n"
   ]
  },
  {
   "cell_type": "code",
   "execution_count": null,
   "id": "2e5dc4a9",
   "metadata": {},
   "outputs": [],
   "source": [
    "# أعلى قيمة\n",
    "max_price = df['Final Price'].max()\n",
    "\n",
    "# أقل قيمة\n",
    "min_price = df['Final Price'].min()\n",
    "\n",
    "print(\"أعلى قيمة:\", max_price)\n",
    "print(\"أقل قيمة:\", min_price)\n",
    "\n",
    "# الاحتفاظ فقط بالقيم الطبيعية للهواتف\n",
    "df = df[(df['Final Price'] >= 50) & (df['Final Price'] <= 2000)]\n",
    "\n",
    "\n",
    "# عرض القيم\n",
    "df['Final Price']"
   ]
  },
  {
   "cell_type": "markdown",
   "id": "4aab8689",
   "metadata": {},
   "source": [
    "# نقوم بمعالجة القم الفارغة ولبمتكرره"
   ]
  },
  {
   "cell_type": "code",
   "execution_count": null,
   "id": "9e903d9a",
   "metadata": {},
   "outputs": [],
   "source": [
    "print(df.isnull().sum()) "
   ]
  },
  {
   "cell_type": "code",
   "execution_count": null,
   "id": "3a1b8081",
   "metadata": {},
   "outputs": [],
   "source": [
    "# حذف الصفوف التي تحتوي على أي قيمة فارغة\n",
    "df = df.dropna()\n",
    "\n",
    "# التأكد\n",
    "print(df.isnull().sum())  # يجب أن يكون كل الأعمدة صفر\n",
    "print(df.shape)           # يعرض عدد الصفوف والأعمدة بعد الحذف\n"
   ]
  },
  {
   "cell_type": "code",
   "execution_count": null,
   "id": "143ef77f",
   "metadata": {},
   "outputs": [],
   "source": [
    "# # ---------------------------\n",
    "# # تنظيف عمود RAM\n",
    "# # ---------------------------\n",
    "# allowed_ram = [2, 4, 8, 16, 32]\n",
    "# most_common_ram = df.loc[df['RAM'].isin(allowed_ram), 'RAM'].mode()[0]\n",
    "\n",
    "# df['RAM'] = df['RAM'].apply(lambda x: x if x in allowed_ram else most_common_ram)\n",
    "\n",
    "# # ---------------------------\n",
    "# # تنظيف عمود Storage\n",
    "# # ---------------------------\n",
    "# allowed_storage = [16, 32, 64, 128, 256, 512]\n",
    "# most_common_storage = df.loc[df['Storage'].isin(allowed_storage), 'Storage'].mode()[0]\n",
    "\n",
    "# df['Storage'] = df['Storage'].apply(lambda x: x if x in allowed_storage else most_common_storage)\n",
    "\n",
    "# # ---------------------------\n",
    "# # عرض النتائج\n",
    "# # ---------------------------\n",
    "# print(df[['RAM', 'Storage']].head())\n"
   ]
  },
  {
   "cell_type": "code",
   "execution_count": null,
   "id": "2ea138a8",
   "metadata": {},
   "outputs": [],
   "source": [
    "# تحويل عمود Model لأرقام\n",
    "le_model = LabelEncoder()\n",
    "df['Model'] = le_model.fit_transform(df['Model'])\n",
    "\n",
    "\n",
    "for col in ['Smartphone']:\n",
    "    df[col] = df[col].str.strip()\n",
    "\n",
    "from sklearn.preprocessing import LabelEncoder\n",
    "\n",
    "for col in ['Smartphone']:\n",
    "    le = LabelEncoder()\n",
    "    df[col] = le.fit_transform(df[col])\n"
   ]
  },
  {
   "cell_type": "code",
   "execution_count": null,
   "id": "6fc98d31",
   "metadata": {},
   "outputs": [],
   "source": [
    "\n",
    "# -------------------------------\n",
    "# افترض أن df جاهز بعد تنظيف البيانات\n",
    "# -------------------------------\n",
    "\n",
    "\n",
    "# الميزات (Features) والهدف (Target)\n",
    "X = df.drop(columns=['Final Price'])\n",
    "y = df['Final Price']\n",
    "\n",
    "# تقسيم البيانات للتدريب والاختبار\n",
    "X_train, X_test, y_train, y_test = train_test_split(\n",
    "    X, y, test_size=0.2, random_state=42\n",
    ")\n",
    "\n",
    "# إنشاء نموذج Random Forest\n",
    "rf = RandomForestRegressor(n_estimators=300, random_state=42)\n",
    "\n",
    "# تدريب النموذج\n",
    "rf.fit(X_train, y_train)\n",
    "\n",
    "# التنبؤ على مجموعة الاختبار\n",
    "y_pred = rf.predict(X_test)\n",
    "\n",
    "# تقييم النموذج\n",
    "mse = mean_squared_error(y_test, y_pred)\n",
    "r2 = r2_score(y_test, y_pred)\n",
    "\n",
    "print(f\"Mean Squared Error: {mse}\")\n",
    "print(f\"R2 Score: {r2}\")\n",
    "\n",
    "# حساب الدقة بالنسبة المئوية\n",
    "mape = np.mean(np.abs((y_test - y_pred) / y_test))\n",
    "accuracy = 1 - mape\n",
    "print(f\"الدقة: {accuracy*100:.2f}%\")\n"
   ]
  },
  {
   "cell_type": "code",
   "execution_count": null,
   "id": "884bb4e6",
   "metadata": {},
   "outputs": [],
   "source": [
    "importances = rf.feature_importances_\n",
    "features = X.columns\n",
    "\n",
    "for feature, importance in zip(features, importances):\n",
    "    print(f\"{feature}: {importance:.2f}\")\n",
    "\n",
    "# هذه الخطوة تبين لك أي الأعمدة أكثر تأثير على سعر الهاتف."
   ]
  },
  {
   "cell_type": "code",
   "execution_count": null,
   "id": "ab69261c",
   "metadata": {},
   "outputs": [],
   "source": [
    "# الجزء 10: حفظ نسخة بعد المعالجة\n",
    "df.to_csv(\"smartphonesحفظ الملف بعد التعديل.csv\", index=False)\n",
    "print(\"تم حفظ نسخة البيانات بعد المعالجة باسم: smartphones_processed.csv\")"
   ]
  }
 ],
 "metadata": {
  "kernelspec": {
   "display_name": "Python 3",
   "language": "python",
   "name": "python3"
  },
  "language_info": {
   "codemirror_mode": {
    "name": "ipython",
    "version": 3
   },
   "file_extension": ".py",
   "mimetype": "text/x-python",
   "name": "python",
   "nbconvert_exporter": "python",
   "pygments_lexer": "ipython3",
   "version": "3.12.4"
  }
 },
 "nbformat": 4,
 "nbformat_minor": 5
}
